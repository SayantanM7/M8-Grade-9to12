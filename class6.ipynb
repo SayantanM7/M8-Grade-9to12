{
 "cells": [
  {
   "cell_type": "code",
   "execution_count": 1,
   "metadata": {},
   "outputs": [
    {
     "name": "stdout",
     "output_type": "stream",
     "text": [
      "Meow\n",
      "I am a cat. My name is Dodo. I am 2.5 years old.\n",
      "Bark\n",
      "I am a dog. My name is Tyson. I am 8 years old.\n"
     ]
    }
   ],
   "source": [
    "#polymorphism\n",
    "class Cat:\n",
    "    def __init__(self, name, age):\n",
    "        self.name = name\n",
    "        self.age = age\n",
    "\n",
    "    def info(self):\n",
    "        print(f\"I am a cat. My name is {self.name}. I am {self.age} years old.\")\n",
    "\n",
    "    def make_sound(self):\n",
    "        print(\"Meow\")\n",
    "\n",
    "\n",
    "class Dog:\n",
    "    def __init__(self, name, age):\n",
    "        self.name = name\n",
    "        self.age = age\n",
    "\n",
    "    def info(self):\n",
    "        print(f\"I am a dog. My name is {self.name}. I am {self.age} years old.\")\n",
    "\n",
    "    def make_sound(self):\n",
    "        print(\"Bark\")\n",
    "\n",
    "\n",
    "cat1 = Cat(\"Dodo\", 2.5)\n",
    "dog1 = Dog(\"Tyson\", 8)\n",
    "\n",
    "for animal in (cat1, dog1):\n",
    "    animal.make_sound()\n",
    "    animal.info()\n",
    "\n",
    "\t\n",
    "    "
   ]
  },
  {
   "cell_type": "code",
   "execution_count": 2,
   "metadata": {},
   "outputs": [
    {
     "name": "stdout",
     "output_type": "stream",
     "text": [
      "Selling Price: 900\n",
      "Selling Price: 900\n",
      "Selling Price: 1000\n"
     ]
    }
   ],
   "source": [
    "#encapsulation\n",
    "class Computer:\n",
    "\n",
    "    def __init__(self):\n",
    "        self.__maxprice = 900\n",
    "\n",
    "    def sell(self):\n",
    "        print(\"Selling Price: {}\".format(self.__maxprice))\n",
    "\n",
    "    def setMaxPrice(self, price):\n",
    "        self.__maxprice = price\n",
    "\n",
    "c = Computer()\n",
    "c.sell()\n",
    "\n",
    "# change the price\n",
    "c.__maxprice = 1000\n",
    "c.sell()\n",
    "\n",
    "# using setter function\n",
    "c.setMaxPrice(1000)\n",
    "c.sell()\n",
    "\n"
   ]
  }
 ],
 "metadata": {
  "kernelspec": {
   "display_name": "base",
   "language": "python",
   "name": "python3"
  },
  "language_info": {
   "codemirror_mode": {
    "name": "ipython",
    "version": 3
   },
   "file_extension": ".py",
   "mimetype": "text/x-python",
   "name": "python",
   "nbconvert_exporter": "python",
   "pygments_lexer": "ipython3",
   "version": "3.12.4"
  }
 },
 "nbformat": 4,
 "nbformat_minor": 2
}
