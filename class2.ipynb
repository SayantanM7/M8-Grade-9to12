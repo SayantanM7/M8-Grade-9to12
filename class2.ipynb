{
 "cells": [
  {
   "cell_type": "code",
   "execution_count": 1,
   "metadata": {},
   "outputs": [
    {
     "name": "stdout",
     "output_type": "stream",
     "text": [
      "()\n",
      "(1, 2, 3)\n",
      "(1, 'Hello', 3.4)\n",
      "('mouse', [8, 4, 6], (1, 2, 3))\n",
      "p\n",
      "t\n",
      "s\n",
      "4\n",
      "Sliced : ('e', 'r', 'm')\n",
      "Hello p\n",
      "Hello e\n",
      "Hello r\n",
      "Hello m\n",
      "Hello i\n",
      "Hello t\n"
     ]
    }
   ],
   "source": [
    "# Empty tuple\n",
    "my_tuple = ()\n",
    "print(my_tuple)\n",
    "\n",
    "# Tuple having integers\n",
    "my_tuple = (1, 2, 3)\n",
    "print(my_tuple)\n",
    "\n",
    "# tuple with mixed datatypes\n",
    "my_tuple = (1, \"Hello\", 3.4)\n",
    "print(my_tuple)\n",
    "\n",
    "# nested tuple\n",
    "my_tuple = (\"mouse\", [8, 4, 6], (1, 2, 3))\n",
    "print(my_tuple)\n",
    "\n",
    "# Accessing tuple elements using indexing\n",
    "my_tuple = ('p','e','r','m','i','t')\n",
    "print(my_tuple[0])   \n",
    "print(my_tuple[5])   \n",
    "\n",
    "# nested tuple\n",
    "n_tuple = (\"mouse\", [8, 4, 6], (1, 2, 3))\n",
    "\n",
    "# nested index\n",
    "print(n_tuple[0][3])       \n",
    "print(n_tuple[1][1])      \n",
    "\n",
    "# Slicing\n",
    "print(\"Sliced :\", my_tuple[1:4])\n",
    "\n",
    "# Iterating through tuple\n",
    "for letter in (my_tuple):\n",
    "    print(\"Hello\", letter)"
   ]
  },
  {
   "cell_type": "code",
   "execution_count": 2,
   "metadata": {},
   "outputs": [
    {
     "name": "stdout",
     "output_type": "stream",
     "text": [
      "Set : {1, 2, 3, 4}\n",
      "Updated Set: {1, 2, 3, 4, 5}\n",
      "\n",
      "Set 1 {1, 2, 3, 4, 5}\n",
      "Set 2 {2, 4, 6}\n",
      "Difference\n",
      "{1, 3, 5}\n",
      "Symmeteric Difference\n",
      "{1, 3, 5, 6}\n"
     ]
    }
   ],
   "source": [
    "#sets\n",
    "my_set = {1,2,2,3,4,4,4}\n",
    "print(\"Set :\", my_set)\n",
    "\n",
    "my_set.add(5)\n",
    "print(\"Updated Set:\", my_set)\n",
    "\n",
    "set1 = my_set\n",
    "set2 = {2,4,4,6}\n",
    "\n",
    "print(\"\\nSet 1\", set1)\n",
    "print(\"Set 2\", set2)\n",
    "print(\"Difference\")\n",
    "print(set1.difference(set2))\n",
    "print(\"Symmeteric Difference\")\n",
    "print(set1.symmetric_difference(set2))"
   ]
  },
  {
   "cell_type": "code",
   "execution_count": 3,
   "metadata": {},
   "outputs": [
    {
     "name": "stdout",
     "output_type": "stream",
     "text": [
      "Original sets:\n",
      "{'green', 'blue'}\n",
      "{'yellow', 'blue'}\n",
      "\n",
      "Union of above sets:\n",
      "{'green', 'yellow', 'blue'}\n"
     ]
    }
   ],
   "source": [
    "#sets\n",
    "setc1 = {\"green\", \"blue\"}\n",
    "setc2 = {\"blue\", \"yellow\"}\n",
    "print(\"Original sets:\")\n",
    "print(setc1)\n",
    "print(setc2)\n",
    "setc = setc1.union(setc2)\n",
    "print(\"\\nUnion of above sets:\")\n",
    "print(setc)"
   ]
  },
  {
   "cell_type": "code",
   "execution_count": 4,
   "metadata": {},
   "outputs": [
    {
     "name": "stdout",
     "output_type": "stream",
     "text": [
      "Original set elements:\n",
      "{'green', 'blue'}\n",
      "{'yellow', 'blue'}\n",
      "\n",
      "Intersection of two said sets:\n",
      "{'blue'}\n"
     ]
    }
   ],
   "source": [
    "# set intersection method\n",
    "setx = {\"green\", \"blue\"}\n",
    "sety = {\"blue\", \"yellow\"}\n",
    "print(\"Original set elements:\")\n",
    "print(setx)\n",
    "print(sety)\n",
    "print(\"\\nIntersection of two said sets:\")\n",
    "setz = setx.intersection(sety)\n",
    "print(setz)"
   ]
  }
 ],
 "metadata": {
  "kernelspec": {
   "display_name": "base",
   "language": "python",
   "name": "python3"
  },
  "language_info": {
   "codemirror_mode": {
    "name": "ipython",
    "version": 3
   },
   "file_extension": ".py",
   "mimetype": "text/x-python",
   "name": "python",
   "nbconvert_exporter": "python",
   "pygments_lexer": "ipython3",
   "version": "3.12.4"
  }
 },
 "nbformat": 4,
 "nbformat_minor": 2
}
