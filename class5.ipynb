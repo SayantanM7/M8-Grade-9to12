{
 "cells": [
  {
   "cell_type": "code",
   "execution_count": 1,
   "metadata": {},
   "outputs": [
    {
     "name": "stdout",
     "output_type": "stream",
     "text": [
      "Penguin\n",
      "20210401\n"
     ]
    }
   ],
   "source": [
    "# parent class\n",
    "class Person( object ):\t\n",
    "\n",
    "\t\t# __init__ is known as the constructor\t\t\n",
    "\t\tdef __init__(self, name, idnumber):\n",
    "\t\t\t\tself.name = name\n",
    "\t\t\t\tself.idnumber = idnumber\n",
    "\t\tdef display(self):\n",
    "\t\t\t\tprint(self.name)\n",
    "\t\t\t\tprint(self.idnumber)\n",
    "\n",
    "# child class\n",
    "class Employee( Person ):\t\t\n",
    "\t\tdef __init__(self, name, idnumber, salary, post):\n",
    "\t\t\t\tself.salary = salary\n",
    "\t\t\t\tself.post = post\n",
    "\n",
    "\t\t\t\t# invoking the __init__ of the parent class\n",
    "\t\t\t\tPerson.__init__(self, name, idnumber)\n",
    "\n",
    "\t\t\t\t\n",
    "# creation of an object variable or an instance\n",
    "a = Employee('Penguin', 20210401, 15000, \"Intern\")\t\n",
    "\n",
    "# calling a function of the class Person using its instance\n",
    "a.display()\n"
   ]
  },
  {
   "cell_type": "code",
   "execution_count": 2,
   "metadata": {},
   "outputs": [
    {
     "name": "stdout",
     "output_type": "stream",
     "text": [
      "Joey King\n",
      "2021\n"
     ]
    }
   ],
   "source": [
    "class Person:\n",
    "  def __init__(self, fname, lname):\n",
    "    self.firstname = fname\n",
    "    self.lastname = lname\n",
    "\n",
    "  def printname(self):\n",
    "    print(self.firstname, self.lastname)\n",
    "\n",
    "class Student(Person):\n",
    "  def __init__(self, fname, lname, year):\n",
    "    super().__init__(fname, lname)\n",
    "    self.graduationyear = year\n",
    "\n",
    "x = Student(\"Joey\", \"King\", 2021)\n",
    "x.printname()\n",
    "print(x.graduationyear)\n"
   ]
  },
  {
   "cell_type": "code",
   "execution_count": 3,
   "metadata": {},
   "outputs": [
    {
     "name": "stdout",
     "output_type": "stream",
     "text": [
      "I can walk and run\n",
      "I can crawl\n",
      "I can bark\n",
      "I can roar\n"
     ]
    }
   ],
   "source": [
    "# import necessary packages\n",
    "from abc import ABC, abstractmethod\n",
    "# create a base class\n",
    "class Animal(ABC):\n",
    "\n",
    "    # abstract method\n",
    "\t# should be implemented by all sub-classes\n",
    "\tdef move(self):\n",
    "\t\tpass\n",
    "\n",
    "# sub classes\n",
    "class Human(Animal):\n",
    "\n",
    "\tdef move(self):\n",
    "\t\tprint(\"I can walk and run\")\n",
    "\n",
    "class Snake(Animal):\n",
    "\n",
    "\tdef move(self):\n",
    "\t\tprint(\"I can crawl\")\n",
    "\n",
    "class Dog(Animal):\n",
    "\n",
    "\tdef move(self):\n",
    "\t\tprint(\"I can bark\")\n",
    "\n",
    "class Lion(Animal):\n",
    "\n",
    "\tdef move(self):\n",
    "\t\tprint(\"I can roar\")\n",
    "\t\t\n",
    "# Driver code\n",
    "R = Human()\n",
    "R.move()\n",
    "\n",
    "K = Snake()\n",
    "K.move()\n",
    "\n",
    "R = Dog()\n",
    "R.move()\n",
    "\n",
    "K = Lion()\n",
    "K.move()\n",
    "\n"
   ]
  },
  {
   "cell_type": "code",
   "execution_count": null,
   "metadata": {},
   "outputs": [],
   "source": []
  }
 ],
 "metadata": {
  "kernelspec": {
   "display_name": "base",
   "language": "python",
   "name": "python3"
  },
  "language_info": {
   "codemirror_mode": {
    "name": "ipython",
    "version": 3
   },
   "file_extension": ".py",
   "mimetype": "text/x-python",
   "name": "python",
   "nbconvert_exporter": "python",
   "pygments_lexer": "ipython3",
   "version": "3.12.4"
  }
 },
 "nbformat": 4,
 "nbformat_minor": 2
}
