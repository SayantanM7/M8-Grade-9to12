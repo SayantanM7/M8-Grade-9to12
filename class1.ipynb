{
 "cells": [
  {
   "cell_type": "code",
   "execution_count": 1,
   "metadata": {},
   "outputs": [
    {
     "name": "stdout",
     "output_type": "stream",
     "text": [
      "Length of list: 5\n",
      "First Element: Apple\n",
      "Last Element: Kiwi\n",
      "Updated List : ['Apple', 'Guava', 'Mango', 'Banana', 'Kiwi', 'Papaya']\n",
      "Updated List : ['Apple', 'Mango', 'Banana', 'Kiwi', 'Papaya']\n",
      "Sorted List: ['Apple', 'Banana', 'Kiwi', 'Mango', 'Papaya']\n",
      "Updated List : ['Apple', 'Kiwi', 'Mango', 'Papaya']\n",
      "Reversed List : ['Papaya', 'Mango', 'Kiwi', 'Apple']\n",
      "Multiplication on List : ['Papaya', 'Mango', 'Kiwi', 'Apple', 'Papaya', 'Mango', 'Kiwi', 'Apple']\n",
      "Sliced List : ['Papaya', 'Mango', 'Kiwi', 'Apple']\n",
      "Updated List : []\n"
     ]
    }
   ],
   "source": [
    "#list\n",
    "lst = ['Apple', 'Guava', 'Mango', 'Banana', 'Kiwi']\n",
    "\n",
    "print(\"Length of list:\", len(lst))\n",
    "print(\"First Element:\", lst[0])\n",
    "print(\"Last Element:\", lst[-1])\n",
    "\n",
    "lst.append('Papaya')\n",
    "print(\"Updated List :\", lst)\n",
    "\n",
    "lst.remove('Guava')\n",
    "print(\"Updated List :\", lst)\n",
    "\n",
    "lst.sort()\n",
    "print(\"Sorted List:\", lst)\n",
    "\n",
    "lst.pop(1)\n",
    "print(\"Updated List :\", lst)\n",
    "\n",
    "lst.reverse()\n",
    "print(\"Reversed List :\", lst)\n",
    "\n",
    "print(\"Multiplication on List :\", lst*2)\n",
    "\n",
    "lst = lst[:4]\n",
    "print(\"Sliced List :\", lst)\n",
    "\n",
    "lst.clear()\n",
    "print(\"Updated List :\", lst)"
   ]
  },
  {
   "cell_type": "code",
   "execution_count": 2,
   "metadata": {},
   "outputs": [
    {
     "name": "stdout",
     "output_type": "stream",
     "text": [
      "Jack\n",
      "26\n",
      "{'name': 'Jack', 'age': 27}\n",
      "{'name': 'Jack', 'age': 27, 'address': 'Downtown'}\n",
      "{'name': 'Jack', 'address': 'Downtown'}\n",
      "Address : Downtown\n",
      "{}\n"
     ]
    }
   ],
   "source": [
    "#dictionary\n",
    "# empty dictionary\n",
    "my_dict = {}\n",
    "\n",
    "# dictionary with integer keys\n",
    "my_dict = {1: 'apple', 2: 'ball'}\n",
    "\n",
    "# dictionary with mixed keys\n",
    "my_dict = {'name': 'John', 1: [2, 4, 3]}\n",
    "\n",
    "my_dict = {'name': 'Jack', 'age': 26}\n",
    "\n",
    "# Output: Jack\n",
    "print(my_dict['name'])\n",
    "print(my_dict.get('age'))\n",
    "\n",
    "# update value\n",
    "my_dict['age'] = 27\n",
    "print(my_dict)\n",
    "\n",
    "# add item\n",
    "my_dict['address'] = 'Downtown'\n",
    "print(my_dict)\n",
    "\n",
    "# remove particular element\n",
    "my_dict.pop('age')\n",
    "print(my_dict)\n",
    "\n",
    "# access a particular element\n",
    "print(\"Address :\", my_dict.get('address'))\n",
    "\n",
    "# remove all the elements\n",
    "my_dict.clear()\n",
    "print(my_dict)\n"
   ]
  },
  {
   "cell_type": "code",
   "execution_count": 3,
   "metadata": {},
   "outputs": [
    {
     "name": "stdout",
     "output_type": "stream",
     "text": [
      "\n",
      "Original list of lists:\n",
      "[[1, 'Jean Castro', 'V'], [2, 'Lula Powell', 'V'], [3, 'Brian Howell', 'VI'], [4, 'Lynne Foster', 'VI'], [5, 'Zachary Simon', 'VII']]\n",
      "\n",
      "Converted  lists to a dictionary:\n",
      "{1: ['Jean Castro', 'V'], 2: ['Lula Powell', 'V'], 3: ['Brian Howell', 'VI'], 4: ['Lynne Foster', 'VI'], 5: ['Zachary Simon', 'VII']}\n"
     ]
    }
   ],
   "source": [
    "#list to dictionary\n",
    "def test(lst):\n",
    "\tresult = {}\n",
    "\tfor item in lst:\n",
    "\t\tresult[item[0]] = item[1:]\n",
    "\treturn result\n",
    "\n",
    "students = [[1, 'Jean Castro', 'V'], [2, 'Lula Powell', 'V'], [3, 'Brian Howell', 'VI'], [4, 'Lynne Foster', 'VI'], [5, 'Zachary Simon', 'VII']]\n",
    "\n",
    "print(\"\\nOriginal list of lists:\")\n",
    "print(students)\n",
    "print(\"\\nConverted  lists to a dictionary:\")\n",
    "print(test(students))"
   ]
  }
 ],
 "metadata": {
  "kernelspec": {
   "display_name": "base",
   "language": "python",
   "name": "python3"
  },
  "language_info": {
   "codemirror_mode": {
    "name": "ipython",
    "version": 3
   },
   "file_extension": ".py",
   "mimetype": "text/x-python",
   "name": "python",
   "nbconvert_exporter": "python",
   "pygments_lexer": "ipython3",
   "version": "3.12.4"
  }
 },
 "nbformat": 4,
 "nbformat_minor": 2
}
